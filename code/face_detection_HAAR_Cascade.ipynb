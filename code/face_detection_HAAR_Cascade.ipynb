{
 "cells": [
  {
   "cell_type": "markdown",
   "id": "f9683516",
   "metadata": {},
   "source": [
    "# Algorithm used in this is HAAR Cascade"
   ]
  },
  {
   "cell_type": "markdown",
   "id": "d8a5581d",
   "metadata": {},
   "source": [
    "HAAR Cascade is a pre-trained Classifier , It will look at image and try to look for it's specific features in that image , it could be the distance between two centroids , it could be the color at different region , shapes that are present anything other than a full image as classifier. These classifiers trained on the million of the images especially for each case like for the face detectation , eye detection , birds etc "
   ]
  },
  {
   "cell_type": "code",
   "execution_count": 1,
   "id": "a5a6e910",
   "metadata": {},
   "outputs": [],
   "source": [
    "import numpy as np\n",
    "import cv2"
   ]
  },
  {
   "cell_type": "markdown",
   "id": "f74f5d9a",
   "metadata": {},
   "source": [
    "# To Detect the Face Only"
   ]
  },
  {
   "cell_type": "code",
   "execution_count": 6,
   "id": "09afcb56",
   "metadata": {},
   "outputs": [],
   "source": [
    "cap = cv2.VideoCapture(0)\n",
    "\n",
    "face_cascade = cv2.CascadeClassifier(cv2.data.haarcascades + 'haarcascade_frontalface_default.xml')\n",
    "eye_cascade = cv2.CascadeClassifier(cv2.data.haarcascades + 'haarcascade_eye.xml')\n",
    "\n",
    "while True:\n",
    "    ret , frame = cap.read()\n",
    "    \n",
    "    gray = cv2.cvtColor(frame,cv2.COLOR_BGR2GRAY) # just like other algorithms it takes input as grey scale image\n",
    "    faces = face_cascade.detectMultiScale(gray , 1.3,5) # it will return the position of the face locations\n",
    "#     eyes =  eye_cascade.detectMultiScale(gray, 1.3, 5)\n",
    "    # gray = base Image\n",
    "    # 1.3 = ScaleFactor we are giving haar cascade image of arbitrary size and it can be 10,000 X 10,000 pixels \n",
    "    # no doubt it won't train on that kind of pixels therefore we will shrink down the image and it is recommended value to shrink down at each iteration\n",
    "    # the smaller the value more accuracy will come with lower performing algorithm and vice versa\n",
    "    \n",
    "    # 5 = this parameter detect the quality of the detected faces. Higher values results in less detection but with high quality\n",
    "    # 3-6 is a good value for it.\n",
    "    \n",
    "    for (x,y,w,h) in faces:\n",
    "        cv2.rectangle(frame, (x, y), (x + w, y + h), (255, 0, 0), 5)\n",
    "    \n",
    "    cv2.imshow('Frame',frame)\n",
    "    \n",
    "    if cv2.waitKey(1) == ord('q'):\n",
    "        break\n",
    "    \n",
    "cap.release()\n",
    "cv2.destroyAllWindows()\n",
    "    "
   ]
  },
  {
   "cell_type": "markdown",
   "id": "7c68f912",
   "metadata": {},
   "source": [
    "# To Detect The Eyes Only"
   ]
  },
  {
   "cell_type": "code",
   "execution_count": null,
   "id": "535922c7",
   "metadata": {},
   "outputs": [],
   "source": [
    "cap = cv2.VideoCapture(0)\n",
    "\n",
    "face_cascade = cv2.CascadeClassifier(cv2.data.haarcascades + 'haarcascade_frontalface_default.xml')\n",
    "eye_cascade = cv2.CascadeClassifier(cv2.data.haarcascades + 'haarcascade_eye.xml')\n",
    "\n",
    "while True:\n",
    "    ret , frame = cap.read()\n",
    "    \n",
    "    gray = cv2.cvtColor(frame,cv2.COLOR_BGR2GRAY) # just like other algorithms it takes input as grey scale image\n",
    "#     faces = face_cascade.detectMultiScale(gray , 1.3,5) # it will return the position of the face locations\n",
    "    eyes =  eye_cascade.detectMultiScale(gray, 1.3, 5)  # it will return the position of the eyes locations\n",
    "    # gray = base Image\n",
    "    # 1.3 = ScaleFactor we are giving haar cascade image of arbitrary size and it can be 10,000 X 10,000 pixels \n",
    "    # no doubt it won't train on that kind of pixels therefore we will shrink down the image and it is recommended value to shrink down at each iteration\n",
    "    # the smaller the value more accuracy will come with lower performing algorithm and vice versa\n",
    "    \n",
    "    # 5 = this parameter detect the quality of the detected faces. Higher values results in less detection but with high quality\n",
    "    # 3-6 is a good value for it.\n",
    "    \n",
    "    for (x,y,w,h) in eyes:\n",
    "        cv2.rectangle(frame, (x, y), (x + w, y + h), (255, 0, 0), 5)\n",
    "    \n",
    "    cv2.imshow('Frame',frame)\n",
    "    \n",
    "    if cv2.waitKey(1) == ord('q'):\n",
    "        break\n",
    "    \n",
    "cap.release()\n",
    "cv2.destroyAllWindows()\n",
    "    "
   ]
  },
  {
   "cell_type": "markdown",
   "id": "5ac02601",
   "metadata": {},
   "source": [
    "# To Detect Both together"
   ]
  },
  {
   "cell_type": "code",
   "execution_count": null,
   "id": "aa66ab45",
   "metadata": {},
   "outputs": [],
   "source": [
    "cap = cv2.VideoCapture(0)\n",
    "\n",
    "face_cascade = cv2.CascadeClassifier(cv2.data.haarcascades + 'haarcascade_frontalface_default.xml')\n",
    "eye_cascade = cv2.CascadeClassifier(cv2.data.haarcascades + 'haarcascade_eye.xml')\n",
    "\n",
    "while True:\n",
    "    ret , frame = cap.read()\n",
    "    \n",
    "    gray = cv2.cvtColor(frame,cv2.COLOR_BGR2GRAY) # just like other algorithms it takes input as grey scale image\n",
    "    faces = face_cascade.detectMultiScale(gray , 1.3,5) # it will return the position of the face locations\n",
    "    # gray = base Image\n",
    "    # 1.3 = ScaleFactor we are giving haar cascade image of arbitrary size and it can be 10,000 X 10,000 pixels \n",
    "    # no doubt it won't train on that kind of pixels therefore we will shrink down the image and it is recommended value to shrink down at each iteration\n",
    "    # the smaller the value more accuracy will come with lower performing algorithm and vice versa\n",
    "    \n",
    "    # 5 = this parameter detect the quality of the detected faces. Higher values results in less detection but with high quality\n",
    "    # 3-6 is a good value for it.\n",
    "    \n",
    "    for (x,y,w,h) in faces:\n",
    "        cv2.rectangle(frame, (x, y), (x + w, y + h), (255, 0, 0), 5) # top left corners = (x,y) , bottom right (x + w, y + h)\n",
    "        roi_gray = gray[y:y+h, x:x+w]   # this will give the actual pixels in the image that represents our face\n",
    "        roi_color = frame[y:y+h, x:x+w] # reference to the original frame and modify the original framex\n",
    "        eyes = eye_cascade.detectMultiScale(roi_gray, 1.3, 5) # location of eyes on the roi_gray \n",
    "        for (ex, ey, ew, eh) in eyes:\n",
    "            cv2.rectangle(roi_color, (ex, ey), (ex + ew, ey + eh), (0, 255, 0), 5)\n",
    "\n",
    "        \n",
    "    \n",
    "    cv2.imshow('Frame',frame)\n",
    "    \n",
    "    if cv2.waitKey(1) == ord('q'):\n",
    "        break\n",
    "    \n",
    "cap.release()\n",
    "cv2.destroyAllWindows()\n",
    "    "
   ]
  },
  {
   "cell_type": "code",
   "execution_count": null,
   "id": "0f64a4ed",
   "metadata": {},
   "outputs": [],
   "source": []
  }
 ],
 "metadata": {
  "kernelspec": {
   "display_name": "Python 3 (ipykernel)",
   "language": "python",
   "name": "python3"
  },
  "language_info": {
   "codemirror_mode": {
    "name": "ipython",
    "version": 3
   },
   "file_extension": ".py",
   "mimetype": "text/x-python",
   "name": "python",
   "nbconvert_exporter": "python",
   "pygments_lexer": "ipython3",
   "version": "3.9.13"
  }
 },
 "nbformat": 4,
 "nbformat_minor": 5
}
